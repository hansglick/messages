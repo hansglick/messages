{
 "cells": [
  {
   "cell_type": "code",
   "execution_count": 62,
   "metadata": {},
   "outputs": [],
   "source": [
    "import pandas as pd\n",
    "import json\n",
    "import pickle\n",
    "import os\n",
    "import itertools\n",
    "from ast import literal_eval\n",
    "import numpy as np\n",
    "import sys\n",
    "from datetime import datetime\n",
    "from scipy import stats\n",
    "from IPython.display import clear_output, display\n",
    "import subprocess\n",
    "from datetime import datetime\n",
    "pd.options.display.float_format = '{:.0f}'.format"
   ]
  },
  {
   "cell_type": "code",
   "execution_count": 63,
   "metadata": {},
   "outputs": [],
   "source": [
    "def LoadJsonFile(filename): \n",
    "    with open(filename, 'r') as f:\n",
    "        DicConfig = json.load(f)\n",
    "    return DicConfig\n",
    "\n",
    "\n",
    "def GlobalDicDeplier(OneDic):\n",
    "    for k,v in OneDic.items():\n",
    "        exec('globals()[k] = v')\n",
    "    return None"
   ]
  },
  {
   "cell_type": "code",
   "execution_count": 64,
   "metadata": {},
   "outputs": [
    {
     "name": "stdout",
     "output_type": "stream",
     "text": [
      "Load Config variables\n"
     ]
    }
   ],
   "source": [
    "DicConfig = LoadJsonFile(os.path.join(os.getcwd(),\"config.json\"))\n",
    "GlobalDicDeplier(DicConfig)\n",
    "sys.path.append(Root)\n",
    "from fun import *\n",
    "\n",
    "print(\"Load Config variables\")"
   ]
  },
  {
   "cell_type": "code",
   "execution_count": 65,
   "metadata": {},
   "outputs": [
    {
     "name": "stdout",
     "output_type": "stream",
     "text": [
      "Load data\n"
     ]
    }
   ],
   "source": [
    "# LOAD DATA\n",
    "print(\"Load data\")\n",
    "path = os.path.join(Root,FolderProject,\"RefFam.pkl\")\n",
    "RefFam = LoadPickleOrInit(path)\n",
    "\n",
    "path = os.path.join(Root,FolderProject,\"RefRT.pkl\")\n",
    "RefRT = LoadPickleOrInit(path)\n",
    "\n",
    "path = os.path.join(Root,FolderProject,\"RefInf.pkl\")\n",
    "RefInf = LoadPickleOrInit(path)\n",
    "\n",
    "path = os.path.join(Root,FolderProject,\"tmdic.pkl\")\n",
    "tmdic = LoadPickleOrInit(path,typeobj=\"dic\")\n",
    "\n",
    "\n",
    "\n",
    "path = os.path.join(Root,FolderProject,\"FinalFam.pkl\")\n",
    "FinalFam = LoadPickleOrInit(path)\n",
    "\n",
    "path = os.path.join(Root,FolderProject,\"FinalRT.pkl\")\n",
    "FinalRT = LoadPickleOrInit(path)\n",
    "\n",
    "path = os.path.join(Root,FolderProject,\"FinalInf.pkl\")\n",
    "FinalInf = LoadPickleOrInit(path)"
   ]
  },
  {
   "cell_type": "markdown",
   "metadata": {},
   "source": [
    "# Récupérer le next batch de rt et la maj des retweets dataframe"
   ]
  },
  {
   "cell_type": "markdown",
   "metadata": {},
   "source": [
    " * **rtdf** : dataframe de reference des retweets téléchargés. Le fichier est alimenté régulièrement.\n",
    " * **pbest** : proportion de volume de retweets à garder\n",
    " * **tmdic** : dictionnaire dont les clés sont des timemarks, les valeurs peuvent être les bornes inférieurs et supérieurs\n",
    " * **rtdf_period** : dataframe de reference des retweets téléchargés uniquement sur une période\n",
    " * **stepsize** : taille du step de la fenetre glissante en secondes\n",
    " * **windowsize** : taille de la fenêtre glissante en secondes\n",
    " * **tm** : une timemark en secondes"
   ]
  },
  {
   "cell_type": "code",
   "execution_count": null,
   "metadata": {},
   "outputs": [],
   "source": []
  },
  {
   "cell_type": "markdown",
   "metadata": {},
   "source": [
    "# Run !"
   ]
  },
  {
   "cell_type": "code",
   "execution_count": 66,
   "metadata": {},
   "outputs": [],
   "source": [
    "LogActualTime = GetCurrentTime()\n",
    "LogTailleDicBefore = len(tmdic)\n",
    "LogNBFinalrtBefore = len(FinalRT)\n",
    "LogNBFinalfamBefore = len(FinalFam)\n",
    "LogNBFinalinfBefore = len(FinalInf)"
   ]
  },
  {
   "cell_type": "code",
   "execution_count": 67,
   "metadata": {},
   "outputs": [
    {
     "data": {
      "text/plain": [
       "Timestamp('2020-02-05 01:25:22')"
      ]
     },
     "execution_count": 67,
     "metadata": {},
     "output_type": "execute_result"
    }
   ],
   "source": [
    "pd.to_datetime(max(tmdic.keys()),unit=\"s\")"
   ]
  },
  {
   "cell_type": "code",
   "execution_count": 68,
   "metadata": {},
   "outputs": [],
   "source": [
    "nexttm = getnexttm(RefRT,tmdic,StepSize,WindowSize)"
   ]
  },
  {
   "cell_type": "code",
   "execution_count": 69,
   "metadata": {},
   "outputs": [
    {
     "data": {
      "text/plain": [
       "Timestamp('2020-02-05 01:30:22')"
      ]
     },
     "execution_count": 69,
     "metadata": {},
     "output_type": "execute_result"
    }
   ],
   "source": [
    "pd.to_datetime(nexttm,unit=\"s\")"
   ]
  },
  {
   "cell_type": "code",
   "execution_count": 70,
   "metadata": {},
   "outputs": [
    {
     "name": "stdout",
     "output_type": "stream",
     "text": [
      "Nombre de batch rajoutés :  19\n"
     ]
    }
   ],
   "source": [
    "tocontinue = True\n",
    "compteur = 0\n",
    "while(tocontinue):\n",
    "    bestrtdf,bestfamdf,bestinfdf,informations,nexttm = getbestrtbashdic(RefRT,\n",
    "                                                                        tmdic,\n",
    "                                                                        StepSize,\n",
    "                                                                        WindowSize,\n",
    "                                                                        TopTweetsProportion,\n",
    "                                                                        RefFam,\n",
    "                                                                        RefInf)\n",
    "    \n",
    "    if nexttm is not None:\n",
    "        compteur = compteur + 1\n",
    "        tmdic[nexttm] = informations\n",
    "        FinalInf = pd.concat((FinalInf,bestinfdf),axis = 0, sort = True)\n",
    "        FinalFam = pd.concat((FinalFam,bestfamdf),axis = 0, sort = True)\n",
    "        FinalRT = pd.concat((FinalRT,bestrtdf),axis = 0, sort = True)\n",
    "\n",
    "        FinalRT = FinalRT.drop_duplicates()\n",
    "        FinalFam = FinalFam.drop_duplicates()\n",
    "        FinalInf = FinalInf.drop_duplicates()\n",
    "\n",
    "        FinalInf.reset_index(drop=True,inplace=True)\n",
    "        FinalFam.reset_index(drop=True,inplace=True)\n",
    "        FinalRT.reset_index(drop=True,inplace=True)\n",
    "        \n",
    "    else:\n",
    "        tocontinue = False\n",
    "        \n",
    "print(\"Nombre de batch rajoutés : \", compteur)"
   ]
  },
  {
   "cell_type": "code",
   "execution_count": 71,
   "metadata": {},
   "outputs": [],
   "source": [
    "LogTailleDicAfter = len(tmdic)\n",
    "LogNBatchRajoutes = compteur\n",
    "LogNBFinalrt = len(FinalRT)\n",
    "LogNBFinalfam = len(FinalFam)\n",
    "LogNBFinalinf = len(FinalInf)"
   ]
  },
  {
   "cell_type": "code",
   "execution_count": 72,
   "metadata": {},
   "outputs": [],
   "source": [
    "if compteur > 0 :\n",
    "    PickleDump(os.path.join(Root,FolderProject,\"tmdic.pkl\"),tmdic)\n",
    "    PickleDump(os.path.join(Root,FolderProject,\"FinalInf.pkl\"),FinalInf)\n",
    "    PickleDump(os.path.join(Root,FolderProject,\"FinalFam.pkl\"),FinalFam)\n",
    "    PickleDump(os.path.join(Root,FolderProject,\"FinalRT.pkl\"),FinalRT)"
   ]
  },
  {
   "cell_type": "code",
   "execution_count": 73,
   "metadata": {},
   "outputs": [],
   "source": [
    "threshold = retrievethreshold(tmdic,WindowSize,RefRT)"
   ]
  },
  {
   "cell_type": "code",
   "execution_count": 74,
   "metadata": {},
   "outputs": [],
   "source": [
    "RemoveRT,KeepRT = extractkeepremove(RefRT,threshold)"
   ]
  },
  {
   "cell_type": "code",
   "execution_count": 75,
   "metadata": {},
   "outputs": [],
   "source": [
    "NewRefFam,NewRefInf = BuildNewsRefs(RemoveRT,FinalFam,FinalInf,RefInf,RefFam)"
   ]
  },
  {
   "cell_type": "code",
   "execution_count": 76,
   "metadata": {},
   "outputs": [],
   "source": [
    "if threshold is not None:\n",
    "    LogThreshold = str(pd.to_datetime(threshold,unit=\"s\"))\n",
    "else : \n",
    "    LogThreshold = None\n",
    "    \n",
    "if RemoveRT is not None:\n",
    "    LogRemoveRT = len(RemoveRT)\n",
    "else:\n",
    "    LogRemoveRT = None\n",
    "\n",
    "if KeepRT is not None:\n",
    "    LogKeepRT = len(KeepRT)\n",
    "else:\n",
    "    LogKeepRT = None\n",
    "\n",
    "if NewRefFam is not None:\n",
    "    LogNewRefFam = len(NewRefFam)\n",
    "else:\n",
    "    LogNewRefFam = None\n",
    "\n",
    "if NewRefInf is not None:\n",
    "    LogNewRefInf = len(NewRefInf)\n",
    "else:\n",
    "    LogNewRefInf = None"
   ]
  },
  {
   "cell_type": "code",
   "execution_count": 77,
   "metadata": {},
   "outputs": [],
   "source": [
    "if KeepRT is not None:\n",
    "    PickleDump(os.path.join(Root,FolderProject,\"RefRT.pkl\"),KeepRT)"
   ]
  },
  {
   "cell_type": "code",
   "execution_count": 78,
   "metadata": {},
   "outputs": [],
   "source": [
    "if NewRefInf is not None:\n",
    "    PickleDump(os.path.join(Root,FolderProject,\"RefInf.pkl\"),NewRefInf)"
   ]
  },
  {
   "cell_type": "code",
   "execution_count": 79,
   "metadata": {},
   "outputs": [],
   "source": [
    "if NewRefFam is not None: \n",
    "    PickleDump(os.path.join(Root,FolderProject,\"RefFam.pkl\"),NewRefFam)"
   ]
  },
  {
   "cell_type": "code",
   "execution_count": 80,
   "metadata": {},
   "outputs": [],
   "source": [
    "mylogs = {\"LogActualTime\" : LogActualTime,\n",
    "\"LogTailleDicBefore\" : LogTailleDicBefore,\n",
    "\"LogNBFinalrtBefore\" : LogNBFinalrtBefore,\n",
    "\"LogNBFinalfamBefore\" : LogNBFinalfamBefore,\n",
    "\"LogNBFinalinfBefore\" : LogNBFinalinfBefore,\n",
    "\"LogTailleDicAfter\" : LogTailleDicAfter,\n",
    "\"LogNBatchRajoutes\" : LogNBatchRajoutes,\n",
    "\"LogNBFinalrt\" : LogNBFinalrt,\n",
    "\"LogNBFinalfam\" : LogNBFinalfam,\n",
    "\"LogNBFinalinf\" : LogNBFinalinf,\n",
    "\"LogThreshold\" : LogThreshold,\n",
    "\"LogRemoveRT\" : LogRemoveRT,\n",
    "\"LogKeepRT\" : LogKeepRT,\n",
    "\"LogNewRefFam\" : LogNewRefFam,\n",
    "\"LogNewRefInf\" : LogNewRefInf}"
   ]
  },
  {
   "cell_type": "code",
   "execution_count": 81,
   "metadata": {},
   "outputs": [],
   "source": [
    "filename = os.path.join(Root,FolderProject,\"Best.log\")\n",
    "AppendStringToFile(filename,mylogs)"
   ]
  },
  {
   "cell_type": "code",
   "execution_count": null,
   "metadata": {},
   "outputs": [],
   "source": []
  }
 ],
 "metadata": {
  "kernelspec": {
   "display_name": "twitter",
   "language": "python",
   "name": "twitter"
  },
  "language_info": {
   "codemirror_mode": {
    "name": "ipython",
    "version": 3
   },
   "file_extension": ".py",
   "mimetype": "text/x-python",
   "name": "python",
   "nbconvert_exporter": "python",
   "pygments_lexer": "ipython3",
   "version": "3.6.7"
  }
 },
 "nbformat": 4,
 "nbformat_minor": 2
}
